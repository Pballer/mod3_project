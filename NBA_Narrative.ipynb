{
 "cells": [
  {
   "cell_type": "markdown",
   "metadata": {},
   "source": [
    "![NBA Poster](NBA_Poster.png)"
   ]
  },
  {
   "cell_type": "markdown",
   "metadata": {},
   "source": [
    "# NBA: BETS"
   ]
  },
  {
   "cell_type": "markdown",
   "metadata": {},
   "source": [
    "## Summary"
   ]
  },
  {
   "cell_type": "markdown",
   "metadata": {},
   "source": [
    "NBA season 2019/2020 is around the corner. It is time to collect any information that could possibly give you a leverage on your chance to win by either betting or having a fantasy team. Our analysis would be able to tell you when to place your bets for a higher probability of return."
   ]
  },
  {
   "cell_type": "markdown",
   "metadata": {},
   "source": [
    "## Contents"
   ]
  },
  {
   "cell_type": "markdown",
   "metadata": {},
   "source": [
    "- [Problem Statement](#Problem-Statement)\n",
    "- [Data Summary](#Data-Summary)\n",
    "- [Analysis](#Analysis)\n",
    "- [Actionable Insights](#Actionable-Insights)"
   ]
  },
  {
   "cell_type": "markdown",
   "metadata": {},
   "source": [
    "## Problem Statement"
   ]
  },
  {
   "cell_type": "markdown",
   "metadata": {},
   "source": [
    "Our goal is to get some information to place bets on a player or a team during the upcoming NBA regular season or to pick the right players for fantazy basketball."
   ]
  },
  {
   "cell_type": "markdown",
   "metadata": {},
   "source": [
    "## Data Summary"
   ]
  },
  {
   "cell_type": "markdown",
   "metadata": {},
   "source": [
    "- Data Source:\n",
    "     - [Free NBA API](https://rapidapi.com/theapiguy/api/free-nba)\n",
    "- Data Reference:\n",
    "     - [NBA Official Website](https://www.nba.com/#/)\n",
    "    \n",
    "- This source provides statistics for:\n",
    "     - around 500 players (names, points, fouls, number of minutes played, etc) per season\n",
    "     - 30 teams (game home, games away, number of 3 points, etc) \n",
    "     - 5 seasons from 2014-2018"
   ]
  },
  {
   "cell_type": "markdown",
   "metadata": {},
   "source": [
    "## Analysis"
   ]
  },
  {
   "cell_type": "markdown",
   "metadata": {},
   "source": [
    "### Game Points Home vs Away for all Teams between 2014-2018"
   ]
  },
  {
   "cell_type": "markdown",
   "metadata": {},
   "source": [
    "We generally assume that a team playing in its hometown has an advantage to score more points that it is to play away because the support of fans/crowd is louder.\n",
    "\n",
    "- Null Hypothesis: The number of points between games played at home and away are the same for all teams"
   ]
  },
  {
   "cell_type": "markdown",
   "metadata": {},
   "source": [
    "![](img/hypo1.png)"
   ]
  },
  {
   "cell_type": "markdown",
   "metadata": {},
   "source": [
    "\n",
    "Our analysis confirms that conjecture, so it rejects the null hypothesis since p is larger than 0.05. Therefore, we conclude that there is a significant advantage for playing at home than playing away for any team from 2014 to 2018, but its effect is pretty small (0.2).\n"
   ]
  },
  {
   "cell_type": "markdown",
   "metadata": {},
   "source": [
    "### Milwauke Bucks's Spread Points between 2014 to 2018"
   ]
  },
  {
   "cell_type": "markdown",
   "metadata": {},
   "source": [
    "Milwaukee Bucks had the highest percentage of winning last season (73.2%), so we suspect that they win more games at home and the spread of points is higher over the past 5 seasons\n",
    "\n",
    "- Null Hypothesis: The difference between points for games played at home and away are the same"
   ]
  },
  {
   "cell_type": "markdown",
   "metadata": {},
   "source": [
    "![](img/hypo2.png)"
   ]
  },
  {
   "cell_type": "markdown",
   "metadata": {},
   "source": [
    "Our analysis rejects the null hypothesis. Therefeore, we can conclude that there is not only a significant advantage that the Bucks win at home, but also the spread of points is larger at home than it is when they play away. \n",
    "\n",
    "Thus, betting on spread for Bucks at Home has a higher probability of return even though the effect is almost medium (0.4)."
   ]
  },
  {
   "cell_type": "markdown",
   "metadata": {},
   "source": [
    "### Milwauke Bucks's Points between the Last Two Seasons"
   ]
  },
  {
   "cell_type": "markdown",
   "metadata": {},
   "source": [
    "The Milwaukee Bucks's percentage winning increased by 20% between the past two seasons; they played and win more games.\n",
    "\n",
    "- Null Hypothesis: Milwauke Bucks's numbers of points between last year and this year are the same"
   ]
  },
  {
   "cell_type": "markdown",
   "metadata": {},
   "source": [
    "![](img/hypo3.png)"
   ]
  },
  {
   "cell_type": "markdown",
   "metadata": {},
   "source": [
    "\n",
    "We reject the null hypothesis and we conclude that there is a significant change between the last two seasons and as expected its effect was very large, ~0.9 .\n"
   ]
  },
  {
   "cell_type": "markdown",
   "metadata": {},
   "source": [
    "### Giannis Antetokounmpo's Points for the Last Two Seasons"
   ]
  },
  {
   "cell_type": "markdown",
   "metadata": {},
   "source": [
    "Giannis Antetokounmpo is the NBA 2018/2019 MVP, and he plays for the Milwauke Bucks; he is certainly a big part of their success.\n",
    "- Null Hypothesis: Giannis's number of points between last year and this year are the same"
   ]
  },
  {
   "cell_type": "markdown",
   "metadata": {},
   "source": [
    "![Gianni](img/hypo4.png)"
   ]
  },
  {
   "cell_type": "markdown",
   "metadata": {},
   "source": [
    "We failed to reject the null hypothesis because the p-value was large. There is not a significance difference between his points whether he is at home or away."
   ]
  },
  {
   "cell_type": "markdown",
   "metadata": {},
   "source": [
    "![Gianni is The Goat](Giannis.png)"
   ]
  },
  {
   "cell_type": "markdown",
   "metadata": {},
   "source": [
    "## Actionable Insights"
   ]
  },
  {
   "cell_type": "markdown",
   "metadata": {},
   "source": [
    "- We recommend to bet on teams when they play at home\n",
    "- Moreover, the spread for Bucks is higher at home than away, and we guess that it is true for all teams\n",
    "- We recommend to always bet on Giannis no matter where he plays as he has being consistent the past two seasons\n"
   ]
  }
 ],
 "metadata": {
  "kernelspec": {
   "display_name": "Python 3",
   "language": "python",
   "name": "python3"
  },
  "language_info": {
   "codemirror_mode": {
    "name": "ipython",
    "version": 3
   },
   "file_extension": ".py",
   "mimetype": "text/x-python",
   "name": "python",
   "nbconvert_exporter": "python",
   "pygments_lexer": "ipython3",
   "version": "3.7.3"
  }
 },
 "nbformat": 4,
 "nbformat_minor": 2
}
